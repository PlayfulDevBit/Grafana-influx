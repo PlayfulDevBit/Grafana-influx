{
  "nbformat": 4,
  "nbformat_minor": 0,
  "metadata": {
    "colab": {
      "provenance": [],
      "authorship_tag": "ABX9TyPt5DP5b7tDm4+WHCPYFeGr",
      "include_colab_link": true
    },
    "kernelspec": {
      "name": "python3",
      "display_name": "Python 3"
    },
    "language_info": {
      "name": "python"
    }
  },
  "cells": [
    {
      "cell_type": "markdown",
      "metadata": {
        "id": "view-in-github",
        "colab_type": "text"
      },
      "source": [
        "<a href=\"https://colab.research.google.com/github/PlayfulDevBit/Grafana-influx/blob/main/Grafana.ipynb\" target=\"_parent\"><img src=\"https://colab.research.google.com/assets/colab-badge.svg\" alt=\"Open In Colab\"/></a>"
      ]
    },
    {
      "cell_type": "code",
      "execution_count": 1,
      "metadata": {
        "colab": {
          "base_uri": "https://localhost:8080/"
        },
        "id": "hWIbBsyVhrEZ",
        "outputId": "e2f5aded-c266-4053-83ea-d5ee57ef31be"
      },
      "outputs": [
        {
          "output_type": "stream",
          "name": "stdout",
          "text": [
            "Requirement already satisfied: psutil in /usr/local/lib/python3.11/dist-packages (5.9.5)\n",
            "Collecting influxdb-client\n",
            "  Downloading influxdb_client-1.48.0-py3-none-any.whl.metadata (65 kB)\n",
            "\u001b[2K     \u001b[90m━━━━━━━━━━━━━━━━━━━━━━━━━━━━━━━━━━━━━━━━\u001b[0m \u001b[32m65.6/65.6 kB\u001b[0m \u001b[31m2.9 MB/s\u001b[0m eta \u001b[36m0:00:00\u001b[0m\n",
            "\u001b[?25hCollecting reactivex>=4.0.4 (from influxdb-client)\n",
            "  Downloading reactivex-4.0.4-py3-none-any.whl.metadata (5.5 kB)\n",
            "Requirement already satisfied: certifi>=14.05.14 in /usr/local/lib/python3.11/dist-packages (from influxdb-client) (2025.1.31)\n",
            "Requirement already satisfied: python-dateutil>=2.5.3 in /usr/local/lib/python3.11/dist-packages (from influxdb-client) (2.8.2)\n",
            "Requirement already satisfied: setuptools>=21.0.0 in /usr/local/lib/python3.11/dist-packages (from influxdb-client) (75.2.0)\n",
            "Requirement already satisfied: urllib3>=1.26.0 in /usr/local/lib/python3.11/dist-packages (from influxdb-client) (2.3.0)\n",
            "Requirement already satisfied: six>=1.5 in /usr/local/lib/python3.11/dist-packages (from python-dateutil>=2.5.3->influxdb-client) (1.17.0)\n",
            "Requirement already satisfied: typing-extensions<5.0.0,>=4.1.1 in /usr/local/lib/python3.11/dist-packages (from reactivex>=4.0.4->influxdb-client) (4.13.2)\n",
            "Downloading influxdb_client-1.48.0-py3-none-any.whl (746 kB)\n",
            "\u001b[2K   \u001b[90m━━━━━━━━━━━━━━━━━━━━━━━━━━━━━━━━━━━━━━━━\u001b[0m \u001b[32m746.2/746.2 kB\u001b[0m \u001b[31m17.3 MB/s\u001b[0m eta \u001b[36m0:00:00\u001b[0m\n",
            "\u001b[?25hDownloading reactivex-4.0.4-py3-none-any.whl (217 kB)\n",
            "\u001b[2K   \u001b[90m━━━━━━━━━━━━━━━━━━━━━━━━━━━━━━━━━━━━━━━━\u001b[0m \u001b[32m217.8/217.8 kB\u001b[0m \u001b[31m13.3 MB/s\u001b[0m eta \u001b[36m0:00:00\u001b[0m\n",
            "\u001b[?25hInstalling collected packages: reactivex, influxdb-client\n",
            "Successfully installed influxdb-client-1.48.0 reactivex-4.0.4\n"
          ]
        }
      ],
      "source": [
        "!pip install psutil influxdb-client"
      ]
    },
    {
      "cell_type": "code",
      "source": [
        "# Import necessary libraries\n",
        "import psutil\n",
        "import time\n",
        "from influxdb_client import InfluxDBClient, Point, WritePrecision\n",
        "from influxdb_client.client.write_api import SYNCHRONOUS\n",
        "from google.colab import userdata # Import userdata to access secrets\n",
        "\n",
        "# --- Configuration ---\n",
        "\n",
        "# Fetch credentials from Colab Secrets\n",
        "# IMPORTANT: Make sure you have created secrets in Colab:\n",
        "#   - Name: TOKEN_IDB, Value: Your InfluxDB API Token\n",
        "#   - Name: ORG_IDB, Value: Your InfluxDB Organization Name or ID\n",
        "try:\n",
        "    TOKEN = userdata.get('TOKEN_IDB')\n",
        "    ORG = userdata.get('ORG_IDB')\n",
        "except Exception as e:\n",
        "    print(f\"Error accessing Colab secrets. Make sure 'google.colab' is available and secrets are set: {e}\")\n",
        "    # Optionally exit or raise the exception if secrets are critical\n",
        "    raise SystemExit(\"Could not retrieve secrets.\")\n",
        "\n",
        "\n",
        "# Check if secrets were retrieved successfully\n",
        "if not TOKEN:\n",
        "    raise ValueError(\"Secret 'TOKEN_IDB' not found or is empty. Please set it in Colab Secrets (View -> Secrets).\")\n",
        "if not ORG:\n",
        "    raise ValueError(\"Secret 'ORG_IDB' not found or is empty. Please set it in Colab Secrets (View -> Secrets).\")\n",
        "\n",
        "# InfluxDB connection details (Bucket and URL can remain here or also be moved to secrets if desired)\n",
        "BUCKET = \"cpu_metrics\"  # Replace with your bucket name if different\n",
        "URL = \"https://eu-central-1-1.aws.cloud2.influxdata.com\"  # Replace with your region URL if different\n",
        "\n",
        "# --- Main Script ---\n",
        "\n",
        "print(\"Attempting to connect to InfluxDB...\")\n",
        "print(f\"Using Org: '{ORG[:4]}...' (from secret ORG_IDB)\") # Print partial org for confirmation\n",
        "print(f\"Using Token: '{TOKEN[:4]}...{TOKEN[-4:]}' (from secret TOKEN_IDB)\") # Print partial token for confirmation\n",
        "\n",
        "# Initialize InfluxDB client using credentials from secrets\n",
        "try:\n",
        "    client = InfluxDBClient(url=URL, token=TOKEN, org=ORG)\n",
        "    write_api = client.write_api(write_options=SYNCHRONOUS)\n",
        "    # Optional: Add a check to verify connection (e.g., ping)\n",
        "    # health = client.health()\n",
        "    # if health.status == \"pass\":\n",
        "    #    print(f\"InfluxDB connection successful to org '{health.org}'!\")\n",
        "    # else:\n",
        "    #    print(f\"InfluxDB connection check failed: {health.message}\")\n",
        "    #    raise ConnectionError(\"Failed InfluxDB health check\")\n",
        "\n",
        "\n",
        "except Exception as e:\n",
        "    print(f\"Error initializing InfluxDB Client: {e}\")\n",
        "    print(\"Please check your URL and ensure the fetched Org ID and Token are correct and have permissions.\")\n",
        "    raise SystemExit(\"InfluxDB client initialization failed.\")\n",
        "\n",
        "\n",
        "print(f\"Successfully initialized client. Writing data to bucket '{BUCKET}'...\")\n",
        "\n",
        "# Collect CPU usage for 60 seconds\n",
        "try:\n",
        "    for i in range(12):  # Collect data every 5 seconds for 60 seconds\n",
        "        cpu_percent = psutil.cpu_percent(interval=1) # Measures over 1 sec\n",
        "\n",
        "        # Create a data point\n",
        "        point = Point(\"system_metrics\") \\\n",
        "                .tag(\"host\", \"colab\") \\\n",
        "                .field(\"cpu_usage\", cpu_percent) \\\n",
        "                .time(time.time_ns(), WritePrecision.NS)\n",
        "\n",
        "        # Write to InfluxDB\n",
        "        # The bucket and org are specified here again, which is good practice for clarity\n",
        "        write_api.write(bucket=BUCKET, org=ORG, record=point)\n",
        "        print(f\"[{i+1}/12] Sent CPU Usage: {cpu_percent}%\")\n",
        "\n",
        "        # Wait approx 5 seconds total including measurement time\n",
        "        time.sleep(4)\n",
        "\n",
        "except Exception as e:\n",
        "    print(f\"\\nAn error occurred during data writing: {e}\")\n",
        "    print(\"This might be due to network issues, bucket permissions, or server-side problems.\")\n",
        "finally:\n",
        "    # Close the client gracefully regardless of errors\n",
        "    print(\"\\nClosing InfluxDB client.\")\n",
        "    if 'client' in locals() and client:\n",
        "        client.close()\n",
        "\n",
        "print(\"Script finished.\")"
      ],
      "metadata": {
        "colab": {
          "base_uri": "https://localhost:8080/"
        },
        "id": "VjjPH-yHkF8M",
        "outputId": "94f56c1b-849e-44d0-98ad-fc31e5357e50"
      },
      "execution_count": 11,
      "outputs": [
        {
          "output_type": "stream",
          "name": "stdout",
          "text": [
            "Attempting to connect to InfluxDB...\n",
            "Using Org: 'Toni...' (from secret ORG_IDB)\n",
            "Using Token: '5UoP...mA==' (from secret TOKEN_IDB)\n",
            "Successfully initialized client. Writing data to bucket 'cpu_metrics'...\n",
            "[1/12] Sent CPU Usage: 4.0%\n",
            "[2/12] Sent CPU Usage: 2.5%\n",
            "[3/12] Sent CPU Usage: 3.0%\n",
            "[4/12] Sent CPU Usage: 2.5%\n",
            "[5/12] Sent CPU Usage: 47.0%\n",
            "[6/12] Sent CPU Usage: 3.0%\n",
            "[7/12] Sent CPU Usage: 37.1%\n",
            "[8/12] Sent CPU Usage: 4.1%\n",
            "[9/12] Sent CPU Usage: 2.5%\n",
            "[10/12] Sent CPU Usage: 3.0%\n",
            "[11/12] Sent CPU Usage: 2.0%\n",
            "[12/12] Sent CPU Usage: 2.0%\n",
            "\n",
            "Closing InfluxDB client.\n",
            "Script finished.\n"
          ]
        }
      ]
    }
  ]
}